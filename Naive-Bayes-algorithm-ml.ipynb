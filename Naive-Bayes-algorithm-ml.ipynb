{
 "cells": [
  {
   "cell_type": "code",
   "execution_count": 2,
   "id": "b7886347-8fa1-4037-a7c5-56baa95027b7",
   "metadata": {},
   "outputs": [],
   "source": [
    "from sklearn.feature_extraction.text  import CountVectorizer\n",
    "from sklearn.naive_bayes import MultinomialNB\n",
    "from sklearn.pipeline import make_pipeline"
   ]
  },
  {
   "cell_type": "code",
   "execution_count": 6,
   "id": "d1517b9b-6c4b-494d-9f0d-9db79decf252",
   "metadata": {},
   "outputs": [
    {
     "name": "stdout",
     "output_type": "stream",
     "text": [
      "Message:'cheap meds now'\n",
      "Predicted class:'Spam'\n",
      "Probabilities spam:'0.92, Not Spam =0.08\n",
      "\n",
      "Message:'schedule a meeting'\n",
      "Predicted class:'Not Spam'\n",
      "Probabilities spam:'0.11, Not Spam =0.89\n",
      "\n",
      "Message:'project schedule'\n",
      "Predicted class:'Not Spam'\n",
      "Probabilities spam:'0.16, Not Spam =0.84\n",
      "\n",
      "Message:'dicount onlin pills'\n",
      "Predicted class:'Spam'\n",
      "Probabilities spam:'0.64, Not Spam =0.36\n",
      "\n",
      "Message:'meeting now'\n",
      "Predicted class:'Not Spam'\n",
      "Probabilities spam:'0.43, Not Spam =0.57\n",
      "\n"
     ]
    }
   ],
   "source": [
    "# dataset \n",
    "texts=[\n",
    "    \"buy cheap meds now\",\n",
    "    \"cheap pills online\",\n",
    "    \"get discount now\",\n",
    "    \"meeting at office\",\n",
    "    \"project disussion\",\n",
    "    \"schedule a meeting\"\n",
    "]\n",
    "labels = [\"Spam\",\"Spam\",\"Spam\",\"Not Spam\",\"Not Spam\",\"Not Spam\"]\n",
    "\n",
    "# create a model pipeline\n",
    "model = make_pipeline(CountVectorizer(),MultinomialNB(alpha=1.0)) # CountVectorizer it is teh frequency  Laplace smoting is alpa =1\n",
    "\n",
    "# Train the model\n",
    "model.fit(texts,labels)\n",
    "\n",
    "# Test messages\n",
    "test_messages=[\n",
    "    \"cheap meds now\",\n",
    "    \"schedule a meeting\",\n",
    "    \"project schedule\",\n",
    "    \"dicount onlin pills\",\n",
    "    \"meeting now\"\n",
    "]\n",
    "# make Predictions\n",
    "predicted= model.predict(test_messages)\n",
    "probs= model.predict_proba(test_messages)\n",
    "\n",
    "# Display reuslts\n",
    "for msg,label,prob in zip(test_messages, predicted,probs):\n",
    "    print(f\"Message:'{msg}'\")\n",
    "    print(f\"Predicted class:'{label}'\")\n",
    "    print(f\"Probabilities spam:'{prob[model.classes_.tolist().index('Spam')]:.2f}, Not Spam ={prob[model.classes_.tolist().index('Not Spam')]:.2f}\\n\")"
   ]
  },
  {
   "cell_type": "code",
   "execution_count": null,
   "id": "f5101bf8-af2d-434f-b047-4f4a507543fa",
   "metadata": {},
   "outputs": [],
   "source": []
  }
 ],
 "metadata": {
  "kernelspec": {
   "display_name": "Python 3 (ipykernel)",
   "language": "python",
   "name": "python3"
  },
  "language_info": {
   "codemirror_mode": {
    "name": "ipython",
    "version": 3
   },
   "file_extension": ".py",
   "mimetype": "text/x-python",
   "name": "python",
   "nbconvert_exporter": "python",
   "pygments_lexer": "ipython3",
   "version": "3.12.5"
  }
 },
 "nbformat": 4,
 "nbformat_minor": 5
}
