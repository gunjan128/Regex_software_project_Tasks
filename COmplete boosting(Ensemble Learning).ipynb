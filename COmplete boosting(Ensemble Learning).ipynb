{
 "cells": [
  {
   "cell_type": "code",
   "execution_count": 1,
   "id": "44cc513f-d2af-418f-affe-21a708add74f",
   "metadata": {},
   "outputs": [
    {
     "name": "stdout",
     "output_type": "stream",
     "text": [
      "Requirement already satisfied: xgboost in c:\\users\\sunil kumar\\appdata\\local\\programs\\python\\python312\\lib\\site-packages (3.0.0)\n",
      "Requirement already satisfied: numpy in c:\\users\\sunil kumar\\appdata\\local\\programs\\python\\python312\\lib\\site-packages (from xgboost) (2.1.3)\n",
      "Requirement already satisfied: scipy in c:\\users\\sunil kumar\\appdata\\local\\programs\\python\\python312\\lib\\site-packages (from xgboost) (1.15.3)\n",
      "Note: you may need to restart the kernel to use updated packages.\n"
     ]
    }
   ],
   "source": [
    "pip install xgboost"
   ]
  },
  {
   "cell_type": "code",
   "execution_count": 5,
   "id": "df4aaf7a-36f0-4281-a93c-b87bc178158b",
   "metadata": {},
   "outputs": [
    {
     "name": "stderr",
     "output_type": "stream",
     "text": [
      "C:\\Users\\sunil kumar\\AppData\\Local\\Programs\\Python\\Python312\\Lib\\site-packages\\xgboost\\training.py:183: UserWarning: [16:12:24] WARNING: C:\\actions-runner\\_work\\xgboost\\xgboost\\src\\learner.cc:738: \n",
      "Parameters: { \"n_estimator\" } are not used.\n",
      "\n",
      "  bst.update(dtrain, iteration=i, fobj=obj)\n"
     ]
    },
    {
     "name": "stdout",
     "output_type": "stream",
     "text": [
      "AdaBoost Accuracy: 0.85\n",
      "XGBoost Accuracy: 0.895\n"
     ]
    }
   ],
   "source": [
    "# Importing necessary libraries\n",
    "from sklearn.ensemble import AdaBoostClassifier\n",
    "from xgboost import XGBClassifier\n",
    "from sklearn.datasets import make_classification\n",
    "from sklearn.model_selection import train_test_split\n",
    "from sklearn.metrics import accuracy_score\n",
    "adaboost=AdaBoostClassifier()\n",
    "\n",
    "# Generating a synthetic classification dataset\n",
    "X,y=make_classification(n_samples=1000,n_features=10,random_state=42)\n",
    "\n",
    "#Splitting the dataset into training and testing sets\n",
    "X_train, X_test, y_train, y_test=train_test_split(X,y,test_size=0.2,random_state=42)\n",
    "adaboost.fit(X_train,y_train)\n",
    "\n",
    "#Creating and traing on XGBoot classifier\n",
    "xgboost=XGBClassifier(n_estimator=100,random_state=42)\n",
    "xgboost.fit(X_train,y_train)\n",
    "\n",
    "#Making prediction on the test set for ADaBoost\n",
    "y_pred_adaboost= adaboost.predict(X_test)\n",
    "\n",
    "#Making predcitions on the test aset for XGBoost\n",
    "y_pred_xgboost=xgboost.predict(X_test)\n",
    "\n",
    "#Calculating the accuracy of adaboost\n",
    "accuracy_adaboost=accuracy_score(y_test,y_pred_adaboost)\n",
    "print(\"AdaBoost Accuracy:\", accuracy_adaboost)\n",
    "\n",
    "#Calcualting the accuracy of XGBoost\n",
    "accuracy_xgboost=accuracy_score(y_test,y_pred_xgboost)\n",
    "print(\"XGBoost Accuracy:\",accuracy_xgboost)"
   ]
  },
  {
   "cell_type": "code",
   "execution_count": null,
   "id": "bc56fa31-98c2-4932-a795-7b6b2f0668ee",
   "metadata": {},
   "outputs": [],
   "source": []
  }
 ],
 "metadata": {
  "kernelspec": {
   "display_name": "Python 3 (ipykernel)",
   "language": "python",
   "name": "python3"
  },
  "language_info": {
   "codemirror_mode": {
    "name": "ipython",
    "version": 3
   },
   "file_extension": ".py",
   "mimetype": "text/x-python",
   "name": "python",
   "nbconvert_exporter": "python",
   "pygments_lexer": "ipython3",
   "version": "3.12.5"
  }
 },
 "nbformat": 4,
 "nbformat_minor": 5
}
