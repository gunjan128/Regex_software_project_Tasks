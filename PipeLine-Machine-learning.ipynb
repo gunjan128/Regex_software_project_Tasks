{
 "cells": [
  {
   "cell_type": "code",
   "execution_count": 1,
   "id": "383e10f2-9ad3-4ddc-95da-026d235698f7",
   "metadata": {},
   "outputs": [],
   "source": [
    "# data ===. separate(categorical,numerical) ==:>\n",
    "# categorical data => SimpleImputer fill ==> encode\n",
    "#Numerical data ==> simpleImputer fill ==> Standardize\n",
    "\n",
    "# apply ---:> algorithm(logsiticRegression)"
   ]
  },
  {
   "cell_type": "code",
   "execution_count": 2,
   "id": "9b840ea6-bb22-46a3-962f-6dc8daf1bbee",
   "metadata": {},
   "outputs": [],
   "source": [
    "import numpy as np\n",
    "import pandas as pd"
   ]
  },
  {
   "cell_type": "code",
   "execution_count": 4,
   "id": "5875a696-40ee-47dc-9b79-7e0bb6f334d7",
   "metadata": {},
   "outputs": [
    {
     "data": {
      "text/plain": [
       "<bound method NDFrame.head of     age  gender  fever   cough       city has_covid\n",
       "0    60    Male  103.0    Mild    Kolkata        No\n",
       "1    27    Male  100.0    Mild      Delhi       Yes\n",
       "2    42    Male  101.0    Mild      Delhi        No\n",
       "3    31  Female   98.0    Mild    Kolkata        No\n",
       "4    65  Female  101.0    Mild     Mumbai        No\n",
       "..  ...     ...    ...     ...        ...       ...\n",
       "95   12  Female  104.0    Mild  Bangalore        No\n",
       "96   51  Female  101.0  Strong    Kolkata       Yes\n",
       "97   20  Female  101.0    Mild  Bangalore        No\n",
       "98    5  Female   98.0  Strong     Mumbai        No\n",
       "99   10  Female   98.0  Strong    Kolkata       Yes\n",
       "\n",
       "[100 rows x 6 columns]>"
      ]
     },
     "execution_count": 4,
     "metadata": {},
     "output_type": "execute_result"
    }
   ],
   "source": [
    "df= pd.read_csv('covid_toy.csv')\n",
    "df.head"
   ]
  },
  {
   "cell_type": "code",
   "execution_count": 8,
   "id": "e326c093-767d-4969-97ad-412c89bcb63a",
   "metadata": {},
   "outputs": [],
   "source": [
    "from sklearn.compose import ColumnTransformer\n",
    "from sklearn.pipeline import Pipeline\n",
    "from sklearn.impute import SimpleImputer\n",
    "from sklearn.preprocessing import StandardScaler, OneHotEncoder\n",
    "from sklearn.linear_model import LogisticRegression\n",
    "from sklearn.model_selection import train_test_split"
   ]
  },
  {
   "cell_type": "code",
   "execution_count": 10,
   "id": "83a65a0e-c2d4-4b8e-82d5-27949e2c7f9b",
   "metadata": {},
   "outputs": [],
   "source": [
    "x =df.drop(columns = ['has_covid'])\n",
    "y = df['has_covid']\n",
    "X_train , X_test, y_train, y_test = train_test_split(x,y,test_size=0.2,random_state=42)"
   ]
  },
  {
   "cell_type": "code",
   "execution_count": 11,
   "id": "34de2c59-8d50-4b23-9e7a-3c541cf0fe73",
   "metadata": {},
   "outputs": [],
   "source": [
    "# define the columns taht need to be preprocessed\n",
    "categorical_feature = ['gender','city']\n",
    "numeric_features = ['age','fever']"
   ]
  },
  {
   "cell_type": "code",
   "execution_count": 12,
   "id": "e62a8cb3-6303-48e0-9669-3f4c70696d98",
   "metadata": {},
   "outputs": [],
   "source": [
    "#crate transformers\n",
    "numeric_transformer = Pipeline(steps=[\n",
    "    ('imputer',SimpleImputer(strategy='mean')),\n",
    "    ('scaler',StandardScaler())\n",
    "])\n",
    "categorical_transformer = Pipeline(steps=[\n",
    "    ('imputer',SimpleImputer(strategy='most_frequent')),\n",
    "    ('onehot',OneHotEncoder(handle_unknown='ignore'))\n",
    "])\n"
   ]
  },
  {
   "cell_type": "code",
   "execution_count": 13,
   "id": "4960dce3-7b3b-4faf-8d5f-f4e7a432fc8a",
   "metadata": {},
   "outputs": [
    {
     "ename": "NameError",
     "evalue": "name 'cateforical_features' is not defined",
     "output_type": "error",
     "traceback": [
      "\u001b[1;31m---------------------------------------------------------------------------\u001b[0m",
      "\u001b[1;31mNameError\u001b[0m                                 Traceback (most recent call last)",
      "Cell \u001b[1;32mIn[13], line 5\u001b[0m\n\u001b[0;32m      1\u001b[0m \u001b[38;5;66;03m#combin transformer\u001b[39;00m\n\u001b[0;32m      2\u001b[0m preprocessor \u001b[38;5;241m=\u001b[39m ColumnTransformer(\n\u001b[0;32m      3\u001b[0m     transformers\u001b[38;5;241m=\u001b[39m[\n\u001b[0;32m      4\u001b[0m         (\u001b[38;5;124m'\u001b[39m\u001b[38;5;124mnum\u001b[39m\u001b[38;5;124m'\u001b[39m,numeric_transformer,numeric_features),\n\u001b[1;32m----> 5\u001b[0m         (\u001b[38;5;124m'\u001b[39m\u001b[38;5;124mcat\u001b[39m\u001b[38;5;124m'\u001b[39m,categorical_transformer,\u001b[43mcateforical_features\u001b[49m)\n\u001b[0;32m      6\u001b[0m     ])\n\u001b[0;32m      8\u001b[0m \u001b[38;5;66;03m# create the popline\u001b[39;00m\n\u001b[0;32m      9\u001b[0m clf\u001b[38;5;241m=\u001b[39m Pipeline(steps\u001b[38;5;241m=\u001b[39m[(\u001b[38;5;124m'\u001b[39m\u001b[38;5;124mpreprocessor\u001b[39m\u001b[38;5;124m'\u001b[39m,preprocessor),\n\u001b[0;32m     10\u001b[0m                      (\u001b[38;5;124m'\u001b[39m\u001b[38;5;124mclassifier\u001b[39m\u001b[38;5;124m'\u001b[39m,LogisticeRegression())])\n",
      "\u001b[1;31mNameError\u001b[0m: name 'cateforical_features' is not defined"
     ]
    }
   ],
   "source": [
    "#combin transformer\n",
    "preprocessor = ColumnTransformer(\n",
    "    transformers=[\n",
    "        ('num',numeric_transformer,numeric_features),\n",
    "        ('cat',categorical_transformer,cateforical_features)\n",
    "    ])\n",
    "\n",
    "# create the popline\n",
    "clf= Pipeline(steps=[('preprocessor',preprocessor),\n",
    "                     ('classifier',LogisticeRegression())])\n",
    "\n",
    "#Train the mode; \n",
    "clf.fit(X_train,y_train)\n",
    "\n",
    "#evaluate the model \n",
    "y_pred = clf.predit(X_test)"
   ]
  },
  {
   "cell_type": "code",
   "execution_count": null,
   "id": "7f03a39e-d8bc-49a6-bc3b-c1bdd3eba4e4",
   "metadata": {},
   "outputs": [],
   "source": []
  }
 ],
 "metadata": {
  "kernelspec": {
   "display_name": "Python 3 (ipykernel)",
   "language": "python",
   "name": "python3"
  },
  "language_info": {
   "codemirror_mode": {
    "name": "ipython",
    "version": 3
   },
   "file_extension": ".py",
   "mimetype": "text/x-python",
   "name": "python",
   "nbconvert_exporter": "python",
   "pygments_lexer": "ipython3",
   "version": "3.12.5"
  }
 },
 "nbformat": 4,
 "nbformat_minor": 5
}
