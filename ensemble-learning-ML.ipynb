{
 "cells": [
  {
   "cell_type": "code",
   "execution_count": 8,
   "id": "d88d1ed7-fcc1-4a47-ad11-9672df6ab077",
   "metadata": {},
   "outputs": [
    {
     "name": "stdout",
     "output_type": "stream",
     "text": [
      "Ensemble Accuracy: 0.855\n"
     ]
    }
   ],
   "source": [
    "import numpy as np\n",
    "from sklearn.ensemble import RandomForestClassifier\n",
    "from sklearn.datasets import make_classification\n",
    "from sklearn.model_selection import train_test_split\n",
    "from sklearn.metrics import accuracy_score\n",
    "\n",
    "# Generate a synthetic dataset\n",
    "X,y= make_classification(n_samples=1000, n_features=20,random_state=42)\n",
    "\n",
    "# Split the dataset into training and testing sets\n",
    "X_train, X_test,y_train,y_test= train_test_split(X,y,test_size=0.2, random_state=42)\n",
    "\n",
    "#Initialize a list to strore the abse learners\n",
    "base_learners=[]\n",
    "# Number of base learners(decision trees)\n",
    "num_base_learners=10\n",
    "\n",
    "\n",
    "# Train the base Learners\n",
    "for i in range(num_base_learners):\n",
    "    # Create a bootstrap sample of the training data\n",
    "    boostrap_indices=np.random.choice(len(X_train),size=len(X_train),replace=True)\n",
    "\n",
    "    X_bootstrap=X_train[boostrap_indices]\n",
    "    y_bootstrap =y_train[boostrap_indices]\n",
    "\n",
    "    # Create and train a base learner (Random Forest)\n",
    "\n",
    "    base_learne=RandomForestClassifier(n_estimators=10, random_state=42)\n",
    "    base_learne.fit(X_bootstrap,y_bootstrap)\n",
    "\n",
    "\n",
    "    #ADD the trained base learner to the list\n",
    "    base_learners.append(base_learne)\n",
    "\n",
    "# Make predictions with each base learner\n",
    "base_predictions =[]\n",
    "for base_learner in base_learners:\n",
    "    y_pred=base_learner.predict(X_test)\n",
    "    base_predictions.append(y_pred)\n",
    "\n",
    "# Combine the prediction using majority voting\n",
    "ensemble_predictions= np.round(np.mean(base_predictions,axis=0))\n",
    "\n",
    "# calculate the accuracy of the ensemble predictions\n",
    "accuracy=accuracy_score(y_test,ensemble_predictions)\n",
    "print(\"Ensemble Accuracy:\",accuracy)\n"
   ]
  },
  {
   "cell_type": "code",
   "execution_count": null,
   "id": "98bd111e-89c5-4d8e-96dd-268e8e1c2215",
   "metadata": {},
   "outputs": [],
   "source": []
  }
 ],
 "metadata": {
  "kernelspec": {
   "display_name": "Python 3 (ipykernel)",
   "language": "python",
   "name": "python3"
  },
  "language_info": {
   "codemirror_mode": {
    "name": "ipython",
    "version": 3
   },
   "file_extension": ".py",
   "mimetype": "text/x-python",
   "name": "python",
   "nbconvert_exporter": "python",
   "pygments_lexer": "ipython3",
   "version": "3.12.5"
  }
 },
 "nbformat": 4,
 "nbformat_minor": 5
}
